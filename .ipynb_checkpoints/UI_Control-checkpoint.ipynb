{
 "cells": [
  {
   "cell_type": "markdown",
   "id": "d886ed85-032d-4b11-be65-43c6df644dfc",
   "metadata": {},
   "source": [
    "# RT2 Assignment 2\n",
    "\n",
    "## HOW TO USE PROPERLY\n",
    "- WARNING - SOMETIMES THERE ARE SOME BUGS REGARDING THE EXECUTION OF THE TASK. IF ROBOT DOESNT MOVE, ALTHOUGH IT CHANGED ITS STATE RESET THE SIMULATION AND RESTART THE KERNEL, RUN ALL CELLS AGAIN. This issue has something to do with the package meant for navigation, from what I noticed everything by my side works fine  ¯\\_(ツ)_/¯\n",
    "\n",
    "1. Launch the simulation by 'roslaunch rt_assignment_2 assignment_2.launch' in your workspace\n",
    "   - Remember to catkin make package, and that it requires `assginment_2_2023` package alongside\n",
    "2. Start the kernel and run all the cells, everything should run without issues.\n",
    "3. The last cell provides UI - Have Fun!\n",
    "\n",
    "\n",
    "Goals of this assignment:\n",
    "- an interface to assign (or cancel) goals to the robot \n",
    "- a plot with the robot’s position and targets’ positions in the environment\n",
    "- a plot for the number of reached/not-reached targets\n",
    "\n",
    "Todo:\n",
    "- add better layout, add output log to know what is happenning"
   ]
  },
  {
   "cell_type": "code",
   "execution_count": 1,
   "id": "add5dd35-bc12-4649-9f96-3f13607c6439",
   "metadata": {
    "execution": {
     "iopub.execute_input": "2024-05-22T09:42:00.733247Z",
     "iopub.status.busy": "2024-05-22T09:42:00.732999Z",
     "iopub.status.idle": "2024-05-22T09:42:01.715315Z",
     "shell.execute_reply": "2024-05-22T09:42:01.714927Z",
     "shell.execute_reply.started": "2024-05-22T09:42:00.733235Z"
    }
   },
   "outputs": [],
   "source": [
    "import ipywidgets as widgets\n",
    "from ipywidgets import TwoByTwoLayout\n",
    "import matplotlib.pyplot as plt\n",
    "from matplotlib.animation import FuncAnimation\n",
    "import numpy as np\n",
    "\n",
    "import rospy\n",
    "from nav_msgs.msg import Odometry\n",
    "from std_msgs.msg import Empty\n",
    "from rt_assignment_2.msg import RobotTarget, RobotCancelGoal\n",
    "\n",
    "\n",
    "%matplotlib widget"
   ]
  },
  {
   "cell_type": "markdown",
   "id": "4b196eb0-1c3c-45cc-9895-2af6352b792b",
   "metadata": {},
   "source": [
    "# Rosnode Init "
   ]
  },
  {
   "cell_type": "code",
   "execution_count": 2,
   "id": "999ccc48-c95b-444d-ac4f-76c409c3570f",
   "metadata": {
    "execution": {
     "iopub.execute_input": "2024-05-22T09:42:01.719384Z",
     "iopub.status.busy": "2024-05-22T09:42:01.717471Z",
     "iopub.status.idle": "2024-05-22T09:42:02.022254Z",
     "shell.execute_reply": "2024-05-22T09:42:02.021699Z",
     "shell.execute_reply.started": "2024-05-22T09:42:01.719368Z"
    }
   },
   "outputs": [],
   "source": [
    "# This will block the rest of the code until master process is run\n",
    "rospy.init_node('odom_visualizer_node')\n",
    "\n",
    "# Publishers\n",
    "pub_robot_target = rospy.Publisher('/robot_target', RobotTarget, queue_size=10)\n",
    "pub_robot_cancel_goal = rospy.Publisher('/robot_cancel_goal', RobotCancelGoal, queue_size = 10);\n"
   ]
  },
  {
   "cell_type": "markdown",
   "id": "dec75e51-aeb6-47af-bab2-baa9f792cd52",
   "metadata": {},
   "source": [
    "## Visualiser class\n",
    "\n",
    "Class for plots"
   ]
  },
  {
   "cell_type": "code",
   "execution_count": 3,
   "id": "57f42f95",
   "metadata": {
    "execution": {
     "iopub.execute_input": "2024-05-22T09:42:02.022969Z",
     "iopub.status.busy": "2024-05-22T09:42:02.022851Z",
     "iopub.status.idle": "2024-05-22T09:42:02.047177Z",
     "shell.execute_reply": "2024-05-22T09:42:02.043388Z",
     "shell.execute_reply.started": "2024-05-22T09:42:02.022957Z"
    }
   },
   "outputs": [],
   "source": [
    "class Visualiser:\n",
    "    def __init__(self):\n",
    "        self.fig, (self.ax1, self.ax2) = plt.subplots(1,2)\n",
    "        self.ln, = self.ax1.plot([], [], 'ro', label = 'robot-path')\n",
    "        self.x_pts, = self.ax1.plot([], [], 'x', label = 'targets')\n",
    "        self.x_pos, self.y_pos = [] , []\n",
    "        self.targets_x, self.targets_y = [], []\n",
    "\n",
    "        # second plot\n",
    "        self.bar_labels = ['non-reached', 'reached']\n",
    "        self.bar_colors = ['tab:red', 'tab:green']\n",
    "        self.targets_reached, self.targets = [] , []\n",
    "\n",
    "        self.bar = self.ax2.bar(self.bar_labels, [0,0], label=self.bar_labels, color=self.bar_colors)\n",
    "        \n",
    "\n",
    "    def plot_init(self):\n",
    "        self.ax1.set_title('Robot Arena')\n",
    "        self.ax1.set_ylabel('y-dist [units]')\n",
    "        self.ax1.set_xlabel('x-dist [units]')\n",
    "        self.ax1.grid(True)\n",
    "        self.ax1.set_xlim(10, -10)\n",
    "        self.ax1.set_ylim(10, -10)\n",
    "        self.ax1.legend()\n",
    "\n",
    "        self.ax2.set_title('Target types')\n",
    "        self.ax2.set_ylim(0, 10)\n",
    "        self.ax2.set_yticks(range(11))\n",
    "        self.ax2.set_ylabel('number of targets')\n",
    "        \n",
    "        \n",
    "        return self.ln,\n",
    "\n",
    "    def add_target_update_plot(self, x, y):\n",
    "        self.targets_x.append(x)\n",
    "        self.targets_y.append(y)\n",
    "        self.targets.append((x,y))\n",
    "        self.x_pts.set_data(self.targets_x, self.targets_y)\n",
    "        self.ax1.text(self.targets_x[-1] - 0.4, self.targets_y[-1] + 0.4, f't_{len(self.targets_x)}')\n",
    "        self.update_second_plot()\n",
    "\n",
    "    \n",
    "    def odom_callback(self, msg):\n",
    "        self.y_pos.append(msg.pose.pose.position.y)\n",
    "        self.x_pos.append(msg.pose.pose.position.x)\n",
    "\n",
    "    def update_plot(self, frame):\n",
    "        self.ln.set_data(self.x_pos, self.y_pos)\n",
    "        return self.ln,\n",
    "\n",
    "    def mark_target_reached_and_update_plot(self):\n",
    "        self.targets_reached.append(self.targets[-1])\n",
    "        self.update_second_plot()\n",
    "\n",
    "    def update_second_plot(self):\n",
    "        self.bar[0].set_height(len(self.targets) - len(self.targets_reached))\n",
    "        self.bar[1].set_height(len(self.targets_reached))\n"
   ]
  },
  {
   "cell_type": "markdown",
   "id": "52c47c8e-1bf8-45e4-8b14-90a1afd16fee",
   "metadata": {},
   "source": [
    "# Widget Setup\n",
    "The block below also includes callbacks"
   ]
  },
  {
   "cell_type": "code",
   "execution_count": 4,
   "id": "6e5dfaee-3ca7-4539-82bd-f78fd88e9c83",
   "metadata": {
    "execution": {
     "iopub.execute_input": "2024-05-22T09:42:02.067267Z",
     "iopub.status.busy": "2024-05-22T09:42:02.065789Z",
     "iopub.status.idle": "2024-05-22T09:42:02.131416Z",
     "shell.execute_reply": "2024-05-22T09:42:02.130162Z",
     "shell.execute_reply.started": "2024-05-22T09:42:02.067244Z"
    }
   },
   "outputs": [],
   "source": [
    "def setup_floatText(str):\n",
    "    widget = widgets.FloatText(\n",
    "        value=0.0,\n",
    "        description=str,\n",
    "        disabled = False\n",
    "        )\n",
    "    return widget\n",
    "\n",
    "def setup_button(name, icon, style = ''):\n",
    "    button = widgets.Button(\n",
    "            value=False,\n",
    "            description=name,\n",
    "            disabled=False,\n",
    "            button_style=style, # 'success', 'info', 'warning', 'danger' or ''\n",
    "            tooltip='Description',\n",
    "            icon=icon# (FontAwesome names without the `fa-` prefix)\n",
    "        )\n",
    "    return button\n",
    "\n",
    "# Callbacks\n",
    "def send_target(click):\n",
    "    #create message\n",
    "    msg_robotTarget = RobotTarget()\n",
    "    msg_robotTarget.x = x_widget.value\n",
    "    msg_robotTarget.y = y_widget.value\n",
    "    # update target plot\n",
    "    vis.add_target_update_plot(msg_robotTarget.x, msg_robotTarget.y)\n",
    "    # Publish the message\n",
    "    pub_robot_target.publish(msg_robotTarget)\n",
    "    print(f'Message sent:')\n",
    "    return\n",
    "\n",
    "def cancel_goal(b_cancel_goal):\n",
    "    pub_robot_cancel_goal.publish(RobotCancelGoal())\n",
    "    print('current Goal is cancelled')\n",
    "    return\n",
    "\n",
    "def is_goal_reached_callback(data):\n",
    "    vis.mark_target_reached_and_update_plot()\n",
    "\n",
    "\n",
    "# setup widgets\n",
    "x_widget = setup_floatText('x: ')\n",
    "y_widget = setup_floatText('y: ')\n",
    "\n",
    "b_set_target = setup_button('Send new target', 'paper-plane')\n",
    "b_set_target.on_click(send_target)\n",
    "\n",
    "b_cancel_goal = setup_button('Cancel current Goal', 'paper-plane', 'warning')\n",
    "b_cancel_goal.on_click(cancel_goal)\n",
    "\n",
    "# buttons in layout\n",
    "widgets_layout = TwoByTwoLayout(top_left=x_widget,\n",
    "                                top_right=b_set_target,\n",
    "                                bottom_left=y_widget,\n",
    "                                bottom_right=b_cancel_goal);"
   ]
  },
  {
   "cell_type": "markdown",
   "id": "467d303d-2f7c-42e7-a21b-3830652f9bcc",
   "metadata": {},
   "source": [
    "## Turn it on"
   ]
  },
  {
   "cell_type": "code",
   "execution_count": 5,
   "id": "5588e54a",
   "metadata": {
    "execution": {
     "iopub.execute_input": "2024-05-22T09:42:02.150000Z",
     "iopub.status.busy": "2024-05-22T09:42:02.133263Z",
     "iopub.status.idle": "2024-05-22T09:42:02.543504Z",
     "shell.execute_reply": "2024-05-22T09:42:02.542133Z",
     "shell.execute_reply.started": "2024-05-22T09:42:02.149965Z"
    }
   },
   "outputs": [
    {
     "data": {
      "application/vnd.jupyter.widget-view+json": {
       "model_id": "9b7989cbafdf43e6af0d0701e5736f0a",
       "version_major": 2,
       "version_minor": 0
      },
      "image/png": "[encoded data removed]",
      "text/html": [
       "\n",
       "            <div style=\"display: inline-block;\">\n",
       "                <div class=\"jupyter-widgets widget-label\" style=\"text-align: center;\">\n",
       "                    Figure\n",
       "                </div>\n",
       "                <img src='data:image/png;base64,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' width=640.0/>\n",
       "            </div>\n",
       "        "
      ],
      "text/plain": [
       "Canvas(toolbar=Toolbar(toolitems=[('Home', 'Reset original view', 'home', 'home'), ('Back', 'Back to previous …"
      ]
     },
     "metadata": {},
     "output_type": "display_data"
    },
    {
     "data": {
      "application/vnd.jupyter.widget-view+json": {
       "model_id": "9d5185f82dc148b49646f0466e248c9d",
       "version_major": 2,
       "version_minor": 0
      },
      "text/plain": [
       "TwoByTwoLayout(children=(FloatText(value=0.0, description='x: ', layout=Layout(grid_area='top-left')), Button(…"
      ]
     },
     "execution_count": 5,
     "metadata": {},
     "output_type": "execute_result"
    }
   ],
   "source": [
    "vis = Visualiser();\n",
    "\n",
    "#Subscribers\n",
    "sub_odom = rospy.Subscriber('/odom', Odometry, vis.odom_callback)\n",
    "sub_goal_is_reached = rospy.Subscriber(\"/goal_is_reached\",\n",
    "                                       Empty, is_goal_reached_callback)\n",
    "\n",
    "ani = FuncAnimation(vis.fig, vis.update_plot, init_func=vis.plot_init, save_count = 20)\n",
    "plt.show(block=True)\n",
    "\n",
    "widgets_layout"
   ]
  }
 ],
 "metadata": {
  "kernelspec": {
   "display_name": "Python 3 (ipykernel)",
   "language": "python",
   "name": "python3"
  },
  "language_info": {
   "codemirror_mode": {
    "name": "ipython",
    "version": 3
   },
   "file_extension": ".py",
   "mimetype": "text/x-python",
   "name": "python",
   "nbconvert_exporter": "python",
   "pygments_lexer": "ipython3",
   "version": "3.8.10"
  }
 },
 "nbformat": 4,
 "nbformat_minor": 5
}
